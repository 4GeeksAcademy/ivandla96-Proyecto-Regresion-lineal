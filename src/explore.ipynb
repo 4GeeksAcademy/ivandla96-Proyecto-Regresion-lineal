{
    "cells": [
        {
            "cell_type": "markdown",
            "metadata": {},
            "source": [
                "## Predecir el coste del seguro médico de una persona\n",
                "La importante compañía de seguros 4Geeks Insurance S.L. quiere calcular, en función de datos los fisiológicos de sus clientes, cuál va a ser la prima (coste) que debe asumir cada uno de ellos. Para ello, ha reunido a un equipo completo de médicos y en función de datos de otras compañías y un estudio particular han logrado reunir un conjunto de datos para entrenar un modelo predictivo."
            ]
        },
        {
            "cell_type": "markdown",
            "metadata": {},
            "source": [
                "## Contenido del proyecto\n",
                "### EDA\n",
                "* [0. Importar librerias](#c0)\n",
                "* [1. Cargar el conjunto de datos](#c1)\n",
                "* [2. Limpieza de datos](#c2)\n",
                "    * [2.1 Identificar las variables](#s21)\n",
                "    * [2.2 Identificar duplicados y valores nulos](#s22)\n",
                "    * [2.3 Eliminar información irrelevante](#s23)\n",
                "* [3. Análisis Univariante](#c3)\n",
                "    * [3.1 Análisis categórico](#s31)\n",
                "    * [3.2 Análisis numérico](#s32) \n",
                "* [4. Análisis Multivariante](#c4)\n",
                "    * [4.1 Análisis Categórico-Categórico](#s41)\n",
                "    * [4.2 Análisis Numérico-Numérico](#s42)\n",
                "    * [4.3 Combinaciones de clase con predictoras](#s43)\n",
                "    * [4.4 Análisis de correlaciones](#s44)\n",
                "* [5. Ingeniería de características](#c5)\n",
                "    * [5.1 Valores atípicos](#s51)\n",
                "    * [5.2 Análisis de valores faltantes](#s52)\n",
                "* [6. Escalado de valores](#c6)\n",
                "    * [6.1 Normalización](#s61)\n",
                "    * [6.2 Escalado Min-Max](#s62)\n",
                "### Machine Learning \n",
                "* [7.1 Regresión logística](#s71)\n",
                "* [7.2 Optimización de hiperparámetros](#s72)"
            ]
        },
        {
            "cell_type": "markdown",
            "metadata": {},
            "source": [
                "### 0. Importar librerías"
            ]
        },
        {
            "cell_type": "code",
            "execution_count": 6,
            "metadata": {},
            "outputs": [],
            "source": [
                "import pandas as pd \n",
                "import numpy as np \n",
                "import seaborn as sns \n",
                "import matplotlib.pyplot as plt \n",
                "\n",
                "import json\n",
                "from pickle import dump\n",
                "\n",
                "from sklearn.model_selection import train_test_split, RandomizedSearchCV, GridSearchCV\n",
                "from sklearn.preprocessing import StandardScaler, MinMaxScaler\n",
                "from sklearn.feature_selection import f_classif, SelectKBest\n",
                "from sklearn.metrics import accuracy_score\n",
                "from sklearn.ensemble import GradientBoostingClassifier\n",
                "from sklearn.linear_model import LogisticRegression, Lasso, Ridge, ElasticNet\n",
                "\n",
                "import warnings\n",
                "def warn(*args, **kwargs):\n",
                "    pass\n",
                "warnings.warn = warn\n",
                "warnings.filterwarnings(\"ignore\", category=FutureWarning)\n",
                "pd.set_option('display.max_columns', None)"
            ]
        }
    ],
    "metadata": {
        "kernelspec": {
            "display_name": "Python 3",
            "language": "python",
            "name": "python3"
        },
        "language_info": {
            "codemirror_mode": {
                "name": "ipython",
                "version": 3
            },
            "file_extension": ".py",
            "mimetype": "text/x-python",
            "name": "python",
            "nbconvert_exporter": "python",
            "pygments_lexer": "ipython3",
            "version": "3.11.4"
        },
        "orig_nbformat": 4
    },
    "nbformat": 4,
    "nbformat_minor": 2
}
